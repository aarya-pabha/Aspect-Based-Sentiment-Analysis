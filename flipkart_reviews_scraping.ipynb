{
  "cells": [
    {
      "cell_type": "markdown",
      "metadata": {
        "papermill": {
          "duration": 0.014719,
          "end_time": "2021-03-24T11:41:24.029366",
          "exception": false,
          "start_time": "2021-03-24T11:41:24.014647",
          "status": "completed"
        },
        "tags": [],
        "id": "ExihN5GM8_cZ"
      },
      "source": [
        "# Web Scraping\n",
        "\n",
        "Data scraping is one of the most used ways to collect data. In simple terms it means, to get HTML code for a webpage and scan it for data."
      ]
    },
    {
      "cell_type": "code",
      "execution_count": null,
      "metadata": {
        "_kg_hide-input": true,
        "execution": {
          "iopub.execute_input": "2021-03-24T11:41:24.129261Z",
          "iopub.status.busy": "2021-03-24T11:41:24.128530Z",
          "iopub.status.idle": "2021-03-24T11:41:24.427069Z",
          "shell.execute_reply": "2021-03-24T11:41:24.427739Z"
        },
        "papermill": {
          "duration": 0.321764,
          "end_time": "2021-03-24T11:41:24.427955",
          "exception": false,
          "start_time": "2021-03-24T11:41:24.106191",
          "status": "completed"
        },
        "tags": [],
        "id": "Kh9lgZCB8_cb"
      },
      "outputs": [],
      "source": [
        "from time import sleep\n",
        "from random import random\n",
        "import pandas as pd\n",
        "import requests\n",
        "from tqdm.notebook import tqdm\n",
        "from bs4 import BeautifulSoup\n",
        "from urllib.parse import urljoin\n",
        "import urllib.parse as urlparse\n",
        "from urllib.parse import parse_qs"
      ]
    },
    {
      "cell_type": "code",
      "execution_count": null,
      "metadata": {
        "execution": {
          "iopub.execute_input": "2021-03-24T11:41:24.464147Z",
          "iopub.status.busy": "2021-03-24T11:41:24.463455Z",
          "iopub.status.idle": "2021-03-24T11:41:24.467125Z",
          "shell.execute_reply": "2021-03-24T11:41:24.466443Z"
        },
        "papermill": {
          "duration": 0.02382,
          "end_time": "2021-03-24T11:41:24.467252",
          "exception": false,
          "start_time": "2021-03-24T11:41:24.443432",
          "status": "completed"
        },
        "tags": [],
        "id": "oso6lmSe8_cd"
      },
      "outputs": [],
      "source": [
        "# Constants\n",
        "BASE_URL = 'https://www.flipkart.com/'\n",
        "SEARCH_QUERY = \"headphones\"\n",
        "TOP_N_PRODUCTS = 10\n",
        "REVIEW_PAGES_TO_SCRAPE_FROM_PER_PRODUCT = 100 #10 Reviews exist per page"
      ]
    },
    {
      "cell_type": "markdown",
      "metadata": {
        "papermill": {
          "duration": 0.014801,
          "end_time": "2021-03-24T11:41:24.497348",
          "exception": false,
          "start_time": "2021-03-24T11:41:24.482547",
          "status": "completed"
        },
        "tags": [],
        "id": "BlDXp5nx8_ce"
      },
      "source": [
        "# Requesting Desired Webpage"
      ]
    },
    {
      "cell_type": "code",
      "execution_count": null,
      "metadata": {
        "execution": {
          "iopub.execute_input": "2021-03-24T11:41:24.532342Z",
          "iopub.status.busy": "2021-03-24T11:41:24.531662Z",
          "iopub.status.idle": "2021-03-24T11:41:25.895975Z",
          "shell.execute_reply": "2021-03-24T11:41:25.896575Z"
        },
        "papermill": {
          "duration": 1.384242,
          "end_time": "2021-03-24T11:41:25.896740",
          "exception": false,
          "start_time": "2021-03-24T11:41:24.512498",
          "status": "completed"
        },
        "tags": [],
        "id": "AH2K1QGq8_ce",
        "outputId": "e772e805-359c-4551-93da-b02ee3ac1335"
      },
      "outputs": [
        {
          "name": "stdout",
          "output_type": "stream",
          "text": [
            "<!DOCTYPE html>\n",
            "<html lang=\"en\">\n",
            " <head>\n",
            "  <link href=\"https://rukminim1.flixcart.com\" rel=\"preconnect\"/>\n",
            "  <link href=\"//static-assets-web.flixcart.com/www/linchpin/fk-cp-zion/css/app.chunk.5a191e.css\" rel=\"stylesheet\"/>\n",
            "  <meta content=\"text/html; charset=utf-8\" http-equiv=\"Content-type\"/>\n",
            "  <meta content=\"IE=Edge\" http-equiv=\"X-UA-Compatible\"/>\n",
            "  <meta content=\"102988293558\" property=\"fb:page_id\"/>\n",
            "  <meta content=\"658873552,624500995,100000233612389\" property=\"fb:admins\"/>\n",
            "  <meta content=\"n\n"
          ]
        }
      ],
      "source": [
        "SAMPLE_URL = \"https://www.flipkart.com/boat-rockerz-400-bluetooth-headset/product-reviews/itm14d0416b87d55?pid=ACCEJZXYKSG2T9GS&lid=LSTACCEJZXYKSG2T9GSVY4ZIC&marketplace=FLIPKART&page=1\"\n",
        "r = requests.get(SAMPLE_URL)    \n",
        "soup = BeautifulSoup(r.content, 'html.parser') \n",
        "print(soup.prettify()[:500])"
      ]
    },
    {
      "cell_type": "markdown",
      "metadata": {
        "papermill": {
          "duration": 0.015012,
          "end_time": "2021-03-24T11:41:25.927634",
          "exception": false,
          "start_time": "2021-03-24T11:41:25.912622",
          "status": "completed"
        },
        "tags": [],
        "id": "YKt3a2Z98_cg"
      },
      "source": [
        "If you're know HTML, this might look familiar.  \n",
        "Next we'll see how to get our data."
      ]
    },
    {
      "cell_type": "markdown",
      "metadata": {
        "papermill": {
          "duration": 0.015067,
          "end_time": "2021-03-24T11:41:25.989516",
          "exception": false,
          "start_time": "2021-03-24T11:41:25.974449",
          "status": "completed"
        },
        "tags": [],
        "id": "eja6yg5s8_ch"
      },
      "source": [
        "# Test for a single product review page"
      ]
    },
    {
      "cell_type": "code",
      "execution_count": null,
      "metadata": {
        "_kg_hide-input": true,
        "execution": {
          "iopub.execute_input": "2021-03-24T11:41:26.048673Z",
          "iopub.status.busy": "2021-03-24T11:41:26.029782Z",
          "iopub.status.idle": "2021-03-24T11:41:26.054490Z",
          "shell.execute_reply": "2021-03-24T11:41:26.053898Z"
        },
        "papermill": {
          "duration": 0.049744,
          "end_time": "2021-03-24T11:41:26.054609",
          "exception": false,
          "start_time": "2021-03-24T11:41:26.004865",
          "status": "completed"
        },
        "tags": [],
        "id": "dKBj5Nfw8_ch",
        "outputId": "e864901d-9fce-467a-a5e0-a35fe8c1c2d0"
      },
      "outputs": [
        {
          "name": "stdout",
          "output_type": "stream",
          "text": [
            "Count of rows(reviews):10\n",
            "\n",
            "\n",
            "\n",
            "rating:5 \n",
            "\n",
            "\n",
            "summary:Worth every penny \n",
            "\n",
            "\n",
            "review:It was nice produt. I like it's design a lot.  It's easy to carry. And.   Looked stylish. \n",
            "\n",
            "\n",
            "location:Kadirur \n",
            "\n",
            "\n",
            "date:Jan, 2020 \n",
            "\n",
            "\n",
            "upvotes:1615 \n",
            "\n",
            "\n",
            "downvotes:118 \n",
            "\n",
            "\n"
          ]
        }
      ],
      "source": [
        "# Extracting all review blocks\n",
        "## Note col._2wzgFH.K0kLPL means 3 entities namely 'col', ' _2wzgFH' and 'K0kLPL' \n",
        "## This is written in HTML as 'col _2wzgFH K0kLPL'\n",
        "## This can also be seen in Bullet 3\n",
        "\n",
        "rows = soup.find_all('div',attrs={'class':'col _2wzgFH K0kLPL'})\n",
        "print(f\"Count of rows(reviews):{len(rows)}\\n\\n\\n\")\n",
        "# iteration over all blocks\n",
        "for row in rows:\n",
        "    # Print a sample row(review html block)\n",
        "    # print(f\"row:\\n{row} \\n\\n\")\n",
        "    \n",
        "    # finding all rows within the block\n",
        "    sub_row = row.find_all('div',attrs={'class':'row'})\n",
        "        \n",
        "    # extracting text from 1st and 2nd row\n",
        "    rating = sub_row[0].find('div').text\n",
        "    print(f\"rating:{rating} \\n\\n\")\n",
        "    \n",
        "    summary = sub_row[0].find('p').text\n",
        "    print(f\"summary:{summary} \\n\\n\")\n",
        "    \n",
        "    review = sub_row[1].find_all('div')[2].text\n",
        "    print(f\"review:{review} \\n\\n\")\n",
        "    \n",
        "    location = sub_row[3].find('p',attrs={'class':'_2mcZGG'}).find_all('span')[1].text\n",
        "    location = \"\".join(location.split(\",\")[1:]).strip()\n",
        "    print(f\"location:{location} \\n\\n\")\n",
        "    \n",
        "    date = sub_row[3].find_all('p',attrs={'class':'_2sc7ZR'})[1].text\n",
        "    print(f\"date:{date} \\n\\n\")\n",
        "    \n",
        "    \n",
        "    sub_row_2 = row.find_all('div',attrs={'class':'_1e9_Zu'})[0].find_all('span',attrs={'class':'_3c3Px5'})\n",
        "    \n",
        "    upvotes = sub_row_2[0].text\n",
        "    print(f\"upvotes:{upvotes} \\n\\n\")\n",
        "    \n",
        "    downvotes = sub_row_2[1].text\n",
        "    print(f\"downvotes:{downvotes} \\n\\n\")\n",
        "    \n",
        "    break"
      ]
    },
    {
      "cell_type": "markdown",
      "metadata": {
        "papermill": {
          "duration": 0.01784,
          "end_time": "2021-03-24T11:41:26.088532",
          "exception": false,
          "start_time": "2021-03-24T11:41:26.070692",
          "status": "completed"
        },
        "tags": [],
        "id": "w7mUsX0j8_ci"
      },
      "source": [
        "# Search based Product URL Discovery"
      ]
    },
    {
      "cell_type": "code",
      "execution_count": null,
      "metadata": {
        "_kg_hide-input": true,
        "execution": {
          "iopub.execute_input": "2021-03-24T11:41:26.132811Z",
          "iopub.status.busy": "2021-03-24T11:41:26.131975Z",
          "iopub.status.idle": "2021-03-24T11:41:26.138891Z",
          "shell.execute_reply": "2021-03-24T11:41:26.139519Z"
        },
        "papermill": {
          "duration": 0.034988,
          "end_time": "2021-03-24T11:41:26.139673",
          "exception": false,
          "start_time": "2021-03-24T11:41:26.104685",
          "status": "completed"
        },
        "tags": [],
        "id": "2NE-mNcU8_ci"
      },
      "outputs": [],
      "source": [
        "def get_popular_product_s_titles_and_urls(search_query : str, popular_products_count_limit : int = None):\n",
        "    \n",
        "    search_url = f\"{BASE_URL}search?q={search_query}&sort=popularity\"\n",
        "    search_response = requests.get(search_url)\n",
        "    \n",
        "    # Pause the loop for 1-3 seconds to simulate natural setting not overwhelm the server with back to back requests without any pause\n",
        "    # sleep(randint(1,3))\n",
        "    \n",
        "    search_html_soup = BeautifulSoup(search_response.content, 'html.parser')\n",
        "    search_results_products = search_html_soup.find_all('div',attrs={'class':'_4ddWXP'})\n",
        "    \n",
        "    product_titles, product_urls = [],[]\n",
        "    \n",
        "    product_count = 0\n",
        "    \n",
        "    for product in tqdm(search_results_products, desc=\"Search Results Iteration\", position=0, leave=True):\n",
        "        \n",
        "        ad_mention_subrow = product.find(\"div\", attrs={\"class\":\"_4HTuuX\"})\n",
        "        \n",
        "        is_ad = not not ad_mention_subrow\n",
        "        \n",
        "        if not is_ad:\n",
        "            \n",
        "            title_mention_subrow = product.find(\"a\", attrs={\"class\":\"s1Q9rs\"})\n",
        "            \n",
        "            product_title = title_mention_subrow[\"title\"]\n",
        "            product_relative_url = title_mention_subrow[\"href\"]\n",
        "            product_url = urljoin(BASE_URL,product_relative_url)\n",
        "            \n",
        "            parsed_url = urlparse.urlparse(product_url)\n",
        "            parsed_url_path = parsed_url.path\n",
        "            parsed_url_path_split = parsed_url_path.split(\"/\")\n",
        "            parsed_url_path_split[2] = \"product-reviews\"\n",
        "            parsed_url_path_modified = \"/\".join(parsed_url_path_split)\n",
        "            parsed_url_modified = parsed_url._replace(path=parsed_url_path_modified)\n",
        "            product_url = parsed_url_modified.geturl()\n",
        "            \n",
        "            product_titles.append(product_title)\n",
        "            product_urls.append(product_url)\n",
        "            \n",
        "            product_count += 1\n",
        "            \n",
        "            if popular_products_count_limit and (product_count >= popular_products_count_limit):\n",
        "                break\n",
        "                \n",
        "    return product_titles, product_urls"
      ]
    },
    {
      "cell_type": "markdown",
      "metadata": {
        "papermill": {
          "duration": 0.016082,
          "end_time": "2021-03-24T11:41:26.171917",
          "exception": false,
          "start_time": "2021-03-24T11:41:26.155835",
          "status": "completed"
        },
        "tags": [],
        "id": "M1k4H7zF8_cj"
      },
      "source": [
        "## Collect Product Page URLs for Top 10 Popular Products for 'Headphones' search query"
      ]
    },
    {
      "cell_type": "markdown",
      "metadata": {
        "papermill": {
          "duration": 0.015815,
          "end_time": "2021-03-24T11:41:26.203880",
          "exception": false,
          "start_time": "2021-03-24T11:41:26.188065",
          "status": "completed"
        },
        "tags": [],
        "id": "6GwidxaA8_cj"
      },
      "source": [
        "### Specify Search Query and Popular Product Count Limit(optional)"
      ]
    },
    {
      "cell_type": "code",
      "execution_count": null,
      "metadata": {
        "execution": {
          "iopub.execute_input": "2021-03-24T11:41:26.240342Z",
          "iopub.status.busy": "2021-03-24T11:41:26.239667Z",
          "iopub.status.idle": "2021-03-24T11:41:28.407937Z",
          "shell.execute_reply": "2021-03-24T11:41:28.407350Z"
        },
        "papermill": {
          "duration": 2.187857,
          "end_time": "2021-03-24T11:41:28.408066",
          "exception": false,
          "start_time": "2021-03-24T11:41:26.220209",
          "status": "completed"
        },
        "tags": [],
        "id": "OgwXuQfJ8_cj",
        "outputId": "903fa44b-b5ba-4ef8-e370-1305c232fbf2",
        "colab": {
          "referenced_widgets": [
            "337116aad2114be4b4b94dccbb937637"
          ]
        }
      },
      "outputs": [
        {
          "data": {
            "application/vnd.jupyter.widget-view+json": {
              "model_id": "337116aad2114be4b4b94dccbb937637",
              "version_major": 2,
              "version_minor": 0
            },
            "text/plain": [
              "HBox(children=(FloatProgress(value=0.0, description='Search Results Iteration', max=40.0, style=ProgressStyle(…"
            ]
          },
          "metadata": {},
          "output_type": "display_data"
        },
        {
          "name": "stdout",
          "output_type": "stream",
          "text": [
            "\n"
          ]
        }
      ],
      "source": [
        "product_titles, product_urls = get_popular_product_s_titles_and_urls(SEARCH_QUERY, TOP_N_PRODUCTS);"
      ]
    },
    {
      "cell_type": "markdown",
      "metadata": {
        "papermill": {
          "duration": 0.017349,
          "end_time": "2021-03-24T11:41:28.443486",
          "exception": false,
          "start_time": "2021-03-24T11:41:28.426137",
          "status": "completed"
        },
        "tags": [],
        "id": "E8bgp_WN8_ck"
      },
      "source": [
        "# Iterating over multiple products and multiple pages"
      ]
    },
    {
      "cell_type": "code",
      "execution_count": null,
      "metadata": {
        "_kg_hide-input": true,
        "execution": {
          "iopub.execute_input": "2021-03-24T11:41:28.487783Z",
          "iopub.status.busy": "2021-03-24T11:41:28.486997Z",
          "iopub.status.idle": "2021-03-24T11:41:28.490131Z",
          "shell.execute_reply": "2021-03-24T11:41:28.490661Z"
        },
        "papermill": {
          "duration": 0.029502,
          "end_time": "2021-03-24T11:41:28.490836",
          "exception": false,
          "start_time": "2021-03-24T11:41:28.461334",
          "status": "completed"
        },
        "tags": [],
        "id": "UuSrlvZ08_ck",
        "outputId": "a638d45d-3b21-4837-bd89-b993cd07faea"
      },
      "outputs": [
        {
          "name": "stdout",
          "output_type": "stream",
          "text": [
            "+------------+--------------------+---------+-----------------------+\n",
            "| # Products | # Reviews Per Page | # Pages | # Total Reviews Count |\n",
            "+------------+--------------------+---------+-----------------------+\n",
            "|     10     |         10         |   100   |         10000         |\n",
            "+------------+--------------------+---------+-----------------------+\n"
          ]
        }
      ],
      "source": [
        "from prettytable import PrettyTable\n",
        "x = PrettyTable()\n",
        "x.field_names = [\"# Products\", \"# Reviews Per Page\", \"# Pages\", \"# Total Reviews Count\"]\n",
        "x.add_row([len(product_urls), 10, REVIEW_PAGES_TO_SCRAPE_FROM_PER_PRODUCT, len(product_urls)*10*REVIEW_PAGES_TO_SCRAPE_FROM_PER_PRODUCT])\n",
        "print(x)"
      ]
    },
    {
      "cell_type": "code",
      "execution_count": null,
      "metadata": {
        "_kg_hide-input": true,
        "execution": {
          "iopub.execute_input": "2021-03-24T11:41:28.531905Z",
          "iopub.status.busy": "2021-03-24T11:41:28.531119Z",
          "iopub.status.idle": "2021-03-24T12:13:33.333393Z",
          "shell.execute_reply": "2021-03-24T12:13:33.326510Z"
        },
        "papermill": {
          "duration": 1924.824201,
          "end_time": "2021-03-24T12:13:33.333628",
          "exception": false,
          "start_time": "2021-03-24T11:41:28.509427",
          "status": "completed"
        },
        "tags": [],
        "id": "n8jUdPpD8_ck",
        "outputId": "f8634b40-29db-4e11-8277-18e036116390",
        "colab": {
          "referenced_widgets": [
            "aa245750d3984d149c834b73d2a429ce",
            "7a69cc47ed3b40ae83e27516171cccb8",
            "fb878e4fd871414d84da2e2ecd622450",
            "033233eb7a964562b22dd6b5c846fa69",
            "78960bf4f0374698b1a953a86b375f93",
            "689687758c164661adc16d29a60b08b0",
            "566b28e77e484fc087f25603e527b459",
            "0f3b622b9a22436da8c14e00e9fa9087",
            "71d7db121ae34175a4d23639f1e1c5df",
            "a6f48ef55eed4054b3df4da78b105ecd",
            "3072a43ae1234c4eb6cd8868a70f69be"
          ]
        }
      },
      "outputs": [
        {
          "data": {
            "application/vnd.jupyter.widget-view+json": {
              "model_id": "aa245750d3984d149c834b73d2a429ce",
              "version_major": 2,
              "version_minor": 0
            },
            "text/plain": [
              "HBox(children=(FloatProgress(value=0.0, description='products', max=10.0, style=ProgressStyle(description_widt…"
            ]
          },
          "metadata": {},
          "output_type": "display_data"
        },
        {
          "data": {
            "application/vnd.jupyter.widget-view+json": {
              "model_id": "7a69cc47ed3b40ae83e27516171cccb8",
              "version_major": 2,
              "version_minor": 0
            },
            "text/plain": [
              "HBox(children=(FloatProgress(value=0.0, description='review pages', style=ProgressStyle(description_width='ini…"
            ]
          },
          "metadata": {},
          "output_type": "display_data"
        },
        {
          "data": {
            "application/vnd.jupyter.widget-view+json": {
              "model_id": "fb878e4fd871414d84da2e2ecd622450",
              "version_major": 2,
              "version_minor": 0
            },
            "text/plain": [
              "HBox(children=(FloatProgress(value=0.0, description='review pages', style=ProgressStyle(description_width='ini…"
            ]
          },
          "metadata": {},
          "output_type": "display_data"
        },
        {
          "data": {
            "application/vnd.jupyter.widget-view+json": {
              "model_id": "033233eb7a964562b22dd6b5c846fa69",
              "version_major": 2,
              "version_minor": 0
            },
            "text/plain": [
              "HBox(children=(FloatProgress(value=0.0, description='review pages', style=ProgressStyle(description_width='ini…"
            ]
          },
          "metadata": {},
          "output_type": "display_data"
        },
        {
          "data": {
            "application/vnd.jupyter.widget-view+json": {
              "model_id": "78960bf4f0374698b1a953a86b375f93",
              "version_major": 2,
              "version_minor": 0
            },
            "text/plain": [
              "HBox(children=(FloatProgress(value=0.0, description='review pages', style=ProgressStyle(description_width='ini…"
            ]
          },
          "metadata": {},
          "output_type": "display_data"
        },
        {
          "data": {
            "application/vnd.jupyter.widget-view+json": {
              "model_id": "689687758c164661adc16d29a60b08b0",
              "version_major": 2,
              "version_minor": 0
            },
            "text/plain": [
              "HBox(children=(FloatProgress(value=0.0, description='review pages', style=ProgressStyle(description_width='ini…"
            ]
          },
          "metadata": {},
          "output_type": "display_data"
        },
        {
          "data": {
            "application/vnd.jupyter.widget-view+json": {
              "model_id": "566b28e77e484fc087f25603e527b459",
              "version_major": 2,
              "version_minor": 0
            },
            "text/plain": [
              "HBox(children=(FloatProgress(value=0.0, description='review pages', style=ProgressStyle(description_width='ini…"
            ]
          },
          "metadata": {},
          "output_type": "display_data"
        },
        {
          "data": {
            "application/vnd.jupyter.widget-view+json": {
              "model_id": "0f3b622b9a22436da8c14e00e9fa9087",
              "version_major": 2,
              "version_minor": 0
            },
            "text/plain": [
              "HBox(children=(FloatProgress(value=0.0, description='review pages', style=ProgressStyle(description_width='ini…"
            ]
          },
          "metadata": {},
          "output_type": "display_data"
        },
        {
          "data": {
            "application/vnd.jupyter.widget-view+json": {
              "model_id": "71d7db121ae34175a4d23639f1e1c5df",
              "version_major": 2,
              "version_minor": 0
            },
            "text/plain": [
              "HBox(children=(FloatProgress(value=0.0, description='review pages', style=ProgressStyle(description_width='ini…"
            ]
          },
          "metadata": {},
          "output_type": "display_data"
        },
        {
          "data": {
            "application/vnd.jupyter.widget-view+json": {
              "model_id": "a6f48ef55eed4054b3df4da78b105ecd",
              "version_major": 2,
              "version_minor": 0
            },
            "text/plain": [
              "HBox(children=(FloatProgress(value=0.0, description='review pages', style=ProgressStyle(description_width='ini…"
            ]
          },
          "metadata": {},
          "output_type": "display_data"
        },
        {
          "data": {
            "application/vnd.jupyter.widget-view+json": {
              "model_id": "3072a43ae1234c4eb6cd8868a70f69be",
              "version_major": 2,
              "version_minor": 0
            },
            "text/plain": [
              "HBox(children=(FloatProgress(value=0.0, description='review pages', style=ProgressStyle(description_width='ini…"
            ]
          },
          "metadata": {},
          "output_type": "display_data"
        },
        {
          "name": "stdout",
          "output_type": "stream",
          "text": [
            "\n"
          ]
        }
      ],
      "source": [
        "dataset = []\n",
        "\n",
        "for idx, url in enumerate(tqdm(product_urls, desc='products')):\n",
        "    # iterating over review pages\n",
        "    for i in tqdm(range(1,REVIEW_PAGES_TO_SCRAPE_FROM_PER_PRODUCT+1), desc=\"review pages\", position=0, leave=False):\n",
        "        parsed = urlparse.urlparse(url)\n",
        "        pid = parse_qs(parsed.query)['pid'][0]\n",
        "        URL = f\"{url}&page={i}\"\n",
        "        \n",
        "        r = requests.get(URL)\n",
        "        \n",
        "        # Pause the loop for 0-1 seconds to simulate natural setting not overwhelm the server with back to back requests without any pause\n",
        "        sleep(random())\n",
        "        soup = BeautifulSoup(r.content, 'html.parser') \n",
        "\n",
        "        rows = soup.find_all('div',attrs={'class':'col _2wzgFH K0kLPL'})\n",
        "\n",
        "        for row in rows:\n",
        "\n",
        "            # finding all rows within the block\n",
        "            sub_row = row.find_all('div',attrs={'class':'row'})\n",
        "\n",
        "            # extracting text from 1st 2nd and 4th row\n",
        "            rating = sub_row[0].find('div').text\n",
        "            summary = sub_row[0].find('p').text\n",
        "            summary = summary.strip()\n",
        "            review = sub_row[1].find_all('div')[2].text\n",
        "            review = review.strip()\n",
        "            location=\"\"\n",
        "            location_row = sub_row[3].find('p',attrs={'class':'_2mcZGG'})\n",
        "            if location_row:\n",
        "                location_row = location_row.find_all('span')\n",
        "                if len(location_row)>=2:\n",
        "                    location = location_row[1].text\n",
        "                    location = \"\".join(location.split(\",\")[1:]).strip()\n",
        "            date = sub_row[3].find_all('p',attrs={'class':'_2sc7ZR'})[1].text\n",
        "\n",
        "            sub_row_2 = row.find_all('div',attrs={'class':'_1e9_Zu'})[0].find_all('span',attrs={'class':'_3c3Px5'})\n",
        "\n",
        "            upvotes = sub_row_2[0].text\n",
        "            downvotes = sub_row_2[1].text\n",
        "\n",
        "            # appending to data\n",
        "            dataset.append({'product_id':pid, 'product_title':product_titles[idx], 'rating': rating, 'summary': summary, 'review': review, 'location' : location, 'date' : date, 'upvotes' : upvotes, 'downvotes' : downvotes})"
      ]
    },
    {
      "cell_type": "markdown",
      "metadata": {
        "papermill": {
          "duration": 0.024037,
          "end_time": "2021-03-24T12:13:33.381218",
          "exception": false,
          "start_time": "2021-03-24T12:13:33.357181",
          "status": "completed"
        },
        "tags": [],
        "id": "Q6jlis7k8_cl"
      },
      "source": [
        "# View Sample set of reviews that we collected"
      ]
    },
    {
      "cell_type": "code",
      "execution_count": null,
      "metadata": {
        "_kg_hide-input": true,
        "execution": {
          "iopub.execute_input": "2021-03-24T12:13:33.437352Z",
          "iopub.status.busy": "2021-03-24T12:13:33.436436Z",
          "iopub.status.idle": "2021-03-24T12:13:33.521618Z",
          "shell.execute_reply": "2021-03-24T12:13:33.521021Z"
        },
        "papermill": {
          "duration": 0.115935,
          "end_time": "2021-03-24T12:13:33.521733",
          "exception": false,
          "start_time": "2021-03-24T12:13:33.405798",
          "status": "completed"
        },
        "tags": [],
        "id": "VqPMx-NJ8_cl",
        "outputId": "2260bda1-026d-497a-b1e8-96d430a98a74"
      },
      "outputs": [
        {
          "data": {
            "text/html": [
              "<div>\n",
              "<style scoped>\n",
              "    .dataframe tbody tr th:only-of-type {\n",
              "        vertical-align: middle;\n",
              "    }\n",
              "\n",
              "    .dataframe tbody tr th {\n",
              "        vertical-align: top;\n",
              "    }\n",
              "\n",
              "    .dataframe thead th {\n",
              "        text-align: right;\n",
              "    }\n",
              "</style>\n",
              "<table border=\"1\" class=\"dataframe\">\n",
              "  <thead>\n",
              "    <tr style=\"text-align: right;\">\n",
              "      <th></th>\n",
              "      <th>product_id</th>\n",
              "      <th>product_title</th>\n",
              "      <th>rating</th>\n",
              "      <th>summary</th>\n",
              "      <th>review</th>\n",
              "      <th>location</th>\n",
              "      <th>date</th>\n",
              "      <th>upvotes</th>\n",
              "      <th>downvotes</th>\n",
              "    </tr>\n",
              "  </thead>\n",
              "  <tbody>\n",
              "    <tr>\n",
              "      <th>0</th>\n",
              "      <td>ACCFR3Q77R6RRGAC</td>\n",
              "      <td>OnePlus Bullets Wireless Z Bluetooth Headset</td>\n",
              "      <td>5</td>\n",
              "      <td>Terrific purchase</td>\n",
              "      <td>first of all with mi 18 watt charger,it got full charged in 20mins.that was amazing and 16-18hrs playtime is best at this price range.I searched for a wireless earphone and bought many but finally settled with this.sound quality is good but build quality is premium.overall i would say it is the best earphone to go with and I guarantee you will not regret.drop like if you find it useful.</td>\n",
              "      <td>Kolkata</td>\n",
              "      <td>9 months ago</td>\n",
              "      <td>1405</td>\n",
              "      <td>169</td>\n",
              "    </tr>\n",
              "    <tr>\n",
              "      <th>1</th>\n",
              "      <td>ACCFR3Q77R6RRGAC</td>\n",
              "      <td>OnePlus Bullets Wireless Z Bluetooth Headset</td>\n",
              "      <td>5</td>\n",
              "      <td>Fabulous!</td>\n",
              "      <td>I am using this product from 2 daysLet me share with you my experienceThis is my genuine and humble review 1st the delivery of flipkart is too good and then awesome packingThen comming to productThe experience of sound is really great we catch every instrumental sounds clearly and be joyful while listening and my rating is 4/5And then about bass, actually I expected too about bass boost but it not reached then that just good actually but I satisfied with that and my rating is 3/5Then ...</td>\n",
              "      <td>Nalgonda District</td>\n",
              "      <td>9 months ago</td>\n",
              "      <td>564</td>\n",
              "      <td>74</td>\n",
              "    </tr>\n",
              "    <tr>\n",
              "      <th>2</th>\n",
              "      <td>ACCFR3Q77R6RRGAC</td>\n",
              "      <td>OnePlus Bullets Wireless Z Bluetooth Headset</td>\n",
              "      <td>5</td>\n",
              "      <td>Worth every penny</td>\n",
              "      <td>LONG BUT WORTH READING.Honest review after one week. Just go for it. Dont get affected by negative reviews. Totally worth every penny and far ahead of its competition. The battery backup is splendid. Sound quality is very good nothing to complain here. Comfortable in the ears. Connectivity perfect. I haven't experienced any lag with normal media usage. I am a student and watch video lectures at sometimes 2x speed and never once I faced voice lag while changing video speed. Just go for it. Ju...</td>\n",
              "      <td>Arrah</td>\n",
              "      <td>9 months ago</td>\n",
              "      <td>1407</td>\n",
              "      <td>206</td>\n",
              "    </tr>\n",
              "    <tr>\n",
              "      <th>3</th>\n",
              "      <td>ACCFR3Q77R6RRGAC</td>\n",
              "      <td>OnePlus Bullets Wireless Z Bluetooth Headset</td>\n",
              "      <td>5</td>\n",
              "      <td>Terrific</td>\n",
              "      <td>writing review after using it for two days ..first of all its having best battery backup among other wireless headphones.only drained 20% battery aftr usage of some 8hrs.. build quality is above the mark.. bass wise its lil low.. bt its ok .. go for it .. it wont disappoint you .. a great thumbs-up for flipkart delivery teams👍🏻👍🏻</td>\n",
              "      <td>Kollam District</td>\n",
              "      <td>10 months ago</td>\n",
              "      <td>164</td>\n",
              "      <td>24</td>\n",
              "    </tr>\n",
              "    <tr>\n",
              "      <th>4</th>\n",
              "      <td>ACCFR3Q77R6RRGAC</td>\n",
              "      <td>OnePlus Bullets Wireless Z Bluetooth Headset</td>\n",
              "      <td>5</td>\n",
              "      <td>Simply awesome</td>\n",
              "      <td>The bass provided is a decent one and the sound clarity is pretty good.And all the other features are exceptional.U can surely go for this one for the price range..will not regeret.</td>\n",
              "      <td>Ernakulam District</td>\n",
              "      <td>10 months ago</td>\n",
              "      <td>941</td>\n",
              "      <td>186</td>\n",
              "    </tr>\n",
              "  </tbody>\n",
              "</table>\n",
              "</div>"
            ],
            "text/plain": [
              "         product_id                                 product_title rating  \\\n",
              "0  ACCFR3Q77R6RRGAC  OnePlus Bullets Wireless Z Bluetooth Headset  5       \n",
              "1  ACCFR3Q77R6RRGAC  OnePlus Bullets Wireless Z Bluetooth Headset  5       \n",
              "2  ACCFR3Q77R6RRGAC  OnePlus Bullets Wireless Z Bluetooth Headset  5       \n",
              "3  ACCFR3Q77R6RRGAC  OnePlus Bullets Wireless Z Bluetooth Headset  5       \n",
              "4  ACCFR3Q77R6RRGAC  OnePlus Bullets Wireless Z Bluetooth Headset  5       \n",
              "\n",
              "             summary  \\\n",
              "0  Terrific purchase   \n",
              "1  Fabulous!           \n",
              "2  Worth every penny   \n",
              "3  Terrific            \n",
              "4  Simply awesome      \n",
              "\n",
              "                                                                                                                                                                                                                                                                                                                                                                                                                                                                                                                review  \\\n",
              "0  first of all with mi 18 watt charger,it got full charged in 20mins.that was amazing and 16-18hrs playtime is best at this price range.I searched for a wireless earphone and bought many but finally settled with this.sound quality is good but build quality is premium.overall i would say it is the best earphone to go with and I guarantee you will not regret.drop like if you find it useful.                                                                                                                 \n",
              "1  I am using this product from 2 daysLet me share with you my experienceThis is my genuine and humble review 1st the delivery of flipkart is too good and then awesome packingThen comming to productThe experience of sound is really great we catch every instrumental sounds clearly and be joyful while listening and my rating is 4/5And then about bass, actually I expected too about bass boost but it not reached then that just good actually but I satisfied with that and my rating is 3/5Then ...          \n",
              "2  LONG BUT WORTH READING.Honest review after one week. Just go for it. Dont get affected by negative reviews. Totally worth every penny and far ahead of its competition. The battery backup is splendid. Sound quality is very good nothing to complain here. Comfortable in the ears. Connectivity perfect. I haven't experienced any lag with normal media usage. I am a student and watch video lectures at sometimes 2x speed and never once I faced voice lag while changing video speed. Just go for it. Ju...   \n",
              "3  writing review after using it for two days ..first of all its having best battery backup among other wireless headphones.only drained 20% battery aftr usage of some 8hrs.. build quality is above the mark.. bass wise its lil low.. bt its ok .. go for it .. it wont disappoint you .. a great thumbs-up for flipkart delivery teams👍🏻👍🏻                                                                                                                                                                           \n",
              "4  The bass provided is a decent one and the sound clarity is pretty good.And all the other features are exceptional.U can surely go for this one for the price range..will not regeret.                                                                                                                                                                                                                                                                                                                                 \n",
              "\n",
              "             location           date upvotes downvotes  \n",
              "0  Kolkata             9 months ago   1405    169       \n",
              "1  Nalgonda District   9 months ago   564     74        \n",
              "2  Arrah               9 months ago   1407    206       \n",
              "3  Kollam District     10 months ago  164     24        \n",
              "4  Ernakulam District  10 months ago  941     186       "
            ]
          },
          "metadata": {},
          "output_type": "display_data"
        },
        {
          "data": {
            "text/html": [
              "<div>\n",
              "<style scoped>\n",
              "    .dataframe tbody tr th:only-of-type {\n",
              "        vertical-align: middle;\n",
              "    }\n",
              "\n",
              "    .dataframe tbody tr th {\n",
              "        vertical-align: top;\n",
              "    }\n",
              "\n",
              "    .dataframe thead th {\n",
              "        text-align: right;\n",
              "    }\n",
              "</style>\n",
              "<table border=\"1\" class=\"dataframe\">\n",
              "  <thead>\n",
              "    <tr style=\"text-align: right;\">\n",
              "      <th></th>\n",
              "      <th>product_id</th>\n",
              "      <th>product_title</th>\n",
              "      <th>rating</th>\n",
              "      <th>summary</th>\n",
              "      <th>review</th>\n",
              "      <th>location</th>\n",
              "      <th>date</th>\n",
              "      <th>upvotes</th>\n",
              "      <th>downvotes</th>\n",
              "    </tr>\n",
              "  </thead>\n",
              "  <tbody>\n",
              "    <tr>\n",
              "      <th>9381</th>\n",
              "      <td>ACCFGYHHKJ94GN6A</td>\n",
              "      <td>BoAt Bassheads 103 Blue Wired Headset</td>\n",
              "      <td>4</td>\n",
              "      <td>Delightful</td>\n",
              "      <td>Okay</td>\n",
              "      <td>Bengaluru</td>\n",
              "      <td>13 days ago</td>\n",
              "      <td>0</td>\n",
              "      <td>0</td>\n",
              "    </tr>\n",
              "    <tr>\n",
              "      <th>9382</th>\n",
              "      <td>ACCFGYHHKJ94GN6A</td>\n",
              "      <td>BoAt Bassheads 103 Blue Wired Headset</td>\n",
              "      <td>4</td>\n",
              "      <td>Really Nice</td>\n",
              "      <td>Good🌸🌸</td>\n",
              "      <td>Lucknow</td>\n",
              "      <td>13 days ago</td>\n",
              "      <td>0</td>\n",
              "      <td>0</td>\n",
              "    </tr>\n",
              "    <tr>\n",
              "      <th>9383</th>\n",
              "      <td>ACCFGYHHKJ94GN6A</td>\n",
              "      <td>BoAt Bassheads 103 Blue Wired Headset</td>\n",
              "      <td>4</td>\n",
              "      <td>Good choice</td>\n",
              "      <td>Nice</td>\n",
              "      <td>Rayagada District</td>\n",
              "      <td>13 days ago</td>\n",
              "      <td>0</td>\n",
              "      <td>0</td>\n",
              "    </tr>\n",
              "    <tr>\n",
              "      <th>9384</th>\n",
              "      <td>ACCFGYHHKJ94GN6A</td>\n",
              "      <td>BoAt Bassheads 103 Blue Wired Headset</td>\n",
              "      <td>5</td>\n",
              "      <td>Must buy!</td>\n",
              "      <td>My favourite product boat thinks you boat</td>\n",
              "      <td>West Godavari District</td>\n",
              "      <td>13 days ago</td>\n",
              "      <td>0</td>\n",
              "      <td>0</td>\n",
              "    </tr>\n",
              "    <tr>\n",
              "      <th>9385</th>\n",
              "      <td>ACCFGYHHKJ94GN6A</td>\n",
              "      <td>BoAt Bassheads 103 Blue Wired Headset</td>\n",
              "      <td>5</td>\n",
              "      <td>Classy product</td>\n",
              "      <td>Awesome 👍</td>\n",
              "      <td>Pune</td>\n",
              "      <td>13 days ago</td>\n",
              "      <td>0</td>\n",
              "      <td>0</td>\n",
              "    </tr>\n",
              "  </tbody>\n",
              "</table>\n",
              "</div>"
            ],
            "text/plain": [
              "            product_id                          product_title rating  \\\n",
              "9381  ACCFGYHHKJ94GN6A  BoAt Bassheads 103 Blue Wired Headset  4       \n",
              "9382  ACCFGYHHKJ94GN6A  BoAt Bassheads 103 Blue Wired Headset  4       \n",
              "9383  ACCFGYHHKJ94GN6A  BoAt Bassheads 103 Blue Wired Headset  4       \n",
              "9384  ACCFGYHHKJ94GN6A  BoAt Bassheads 103 Blue Wired Headset  5       \n",
              "9385  ACCFGYHHKJ94GN6A  BoAt Bassheads 103 Blue Wired Headset  5       \n",
              "\n",
              "             summary                                     review  \\\n",
              "9381  Delightful      Okay                                        \n",
              "9382  Really Nice     Good🌸🌸                                      \n",
              "9383  Good choice     Nice                                        \n",
              "9384  Must buy!       My favourite product boat thinks you boat   \n",
              "9385  Classy product  Awesome 👍                                   \n",
              "\n",
              "                    location         date upvotes downvotes  \n",
              "9381  Bengaluru               13 days ago  0       0         \n",
              "9382  Lucknow                 13 days ago  0       0         \n",
              "9383  Rayagada District       13 days ago  0       0         \n",
              "9384  West Godavari District  13 days ago  0       0         \n",
              "9385  Pune                    13 days ago  0       0         "
            ]
          },
          "metadata": {},
          "output_type": "display_data"
        }
      ],
      "source": [
        "df = pd.DataFrame(dataset)\n",
        "\n",
        "with pd.option_context('display.max_colwidth', -1):\n",
        "    display(df.head(5))\n",
        "    display(df.tail(5))"
      ]
    },
    {
      "cell_type": "code",
      "execution_count": null,
      "metadata": {
        "_kg_hide-input": true,
        "execution": {
          "iopub.execute_input": "2021-03-24T12:13:33.578908Z",
          "iopub.status.busy": "2021-03-24T12:13:33.578133Z",
          "iopub.status.idle": "2021-03-24T12:13:33.582807Z",
          "shell.execute_reply": "2021-03-24T12:13:33.582266Z"
        },
        "papermill": {
          "duration": 0.035288,
          "end_time": "2021-03-24T12:13:33.582920",
          "exception": false,
          "start_time": "2021-03-24T12:13:33.547632",
          "status": "completed"
        },
        "tags": [],
        "id": "nmMisb5F8_cm",
        "outputId": "22169935-dbe7-4409-c2f6-21d13a5d5416"
      },
      "outputs": [
        {
          "name": "stdout",
          "output_type": "stream",
          "text": [
            "Count of reviews:9386\n"
          ]
        }
      ],
      "source": [
        "count_reviews = df.shape[0]\n",
        "print(f\"Count of reviews:{count_reviews}\")"
      ]
    },
    {
      "cell_type": "markdown",
      "metadata": {
        "papermill": {
          "duration": 0.025336,
          "end_time": "2021-03-24T12:13:33.633689",
          "exception": false,
          "start_time": "2021-03-24T12:13:33.608353",
          "status": "completed"
        },
        "tags": [],
        "id": "BeAlm7au8_cm"
      },
      "source": [
        "# Serialize the dataframe to a csv file"
      ]
    },
    {
      "cell_type": "code",
      "execution_count": null,
      "metadata": {
        "_kg_hide-input": true,
        "execution": {
          "iopub.execute_input": "2021-03-24T12:13:33.691139Z",
          "iopub.status.busy": "2021-03-24T12:13:33.690110Z",
          "iopub.status.idle": "2021-03-24T12:13:34.173496Z",
          "shell.execute_reply": "2021-03-24T12:13:34.172866Z"
        },
        "papermill": {
          "duration": 0.514159,
          "end_time": "2021-03-24T12:13:34.173629",
          "exception": false,
          "start_time": "2021-03-24T12:13:33.659470",
          "status": "completed"
        },
        "tags": [],
        "id": "qwVxeq5O8_cm"
      },
      "outputs": [],
      "source": [
        "df.to_csv(\"./flipkart_reviews_dataset.csv\", index=False)"
      ]
    }
  ],
  "metadata": {
    "kernelspec": {
      "display_name": "Python 3",
      "language": "python",
      "name": "python3"
    },
    "language_info": {
      "codemirror_mode": {
        "name": "ipython",
        "version": 3
      },
      "file_extension": ".py",
      "mimetype": "text/x-python",
      "name": "python",
      "nbconvert_exporter": "python",
      "pygments_lexer": "ipython3",
      "version": "3.7.6"
    },
    "papermill": {
      "duration": 1935.503829,
      "end_time": "2021-03-24T12:13:34.313297",
      "environment_variables": {},
      "exception": null,
      "input_path": "__notebook__.ipynb",
      "output_path": "__notebook__.ipynb",
      "parameters": {},
      "start_time": "2021-03-24T11:41:18.809468",
      "version": "2.1.0"
    },
    "colab": {
      "provenance": []
    }
  },
  "nbformat": 4,
  "nbformat_minor": 0
}